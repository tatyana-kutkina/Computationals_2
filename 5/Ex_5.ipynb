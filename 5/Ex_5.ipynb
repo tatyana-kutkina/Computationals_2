{
 "cells": [
  {
   "cell_type": "markdown",
   "metadata": {
    "collapsed": true,
    "pycharm": {
     "name": "#%% md\n"
    }
   },
   "source": [
    "#### Жесткие системы.\n",
    "\n",
    "5 вариант\n"
   ]
  },
  {
   "cell_type": "markdown",
   "source": [
    "$\n",
    "\\begin{cases}\n",
    "y'_1 = -125y_1 + 123.25y_2 \\\\\n",
    "y'_2 = 123.25y_1 - 123y_2\n",
    "\\end{cases}\n",
    "$\n",
    "\n",
    "$\n",
    "y_1(0) = 1, y_2(0) = 1\n",
    "$\n"
   ],
   "metadata": {
    "collapsed": false
   }
  },
  {
   "cell_type": "markdown",
   "source": [
    "Найти точное решение на отрезке $[0, 05]$ с шагом $h = 0.1$"
   ],
   "metadata": {
    "collapsed": false,
    "pycharm": {
     "name": "#%% md\n"
    }
   }
  },
  {
   "cell_type": "code",
   "execution_count": 17,
   "outputs": [
    {
     "name": "stdout",
     "output_type": "stream",
     "text": [
      "Точное решение:\n",
      "[1.0, 0.9106518183557545, 0.8326784008134588, 0.7613812784467066, 0.6961889183504308, 0.636578568286207]\n",
      "[1.0, 0.9180704499202094, 0.8394618194487907, 0.7675838747521827, 0.7018604247870941, 0.6417644587069607]\n"
     ]
    }
   ],
   "source": [
    "import numpy as np\n",
    "from scipy.integrate import odeint\n",
    "import diffs\n",
    "import pandas as pd\n",
    "from numpy import linalg as LA\n",
    "\n",
    "\n",
    "def pend(y, t, b, c):\n",
    "    theta, omega = y\n",
    "    dydt = [-125*theta + 123.25*omega, b*theta - c*omega]\n",
    "    return dydt\n",
    "\n",
    "\n",
    "y0 = [1, 1]\n",
    "b = 123.25\n",
    "c = 123\n",
    "t = np.linspace(0, 0.6, 6)\n",
    "sol = odeint(pend, y0, t, args=(b, c))\n",
    "\n",
    "y1 = [0]*len(sol)\n",
    "y2 = [0]*len(sol)\n",
    "\n",
    "for i in range(len(sol)):\n",
    "    y1[i] = sol[i][0]\n",
    "    y2[i] = sol[i][1]\n",
    "\n",
    "print(\"Точное решение:\")\n",
    "print(y1)\n",
    "print(y2)"
   ],
   "metadata": {
    "collapsed": false,
    "pycharm": {
     "name": "#%%\n"
    }
   }
  },
  {
   "cell_type": "markdown",
   "source": [
    "На отрезке $[0, 0.5]$ с шагом $h = 0.05$ и $h = 0.001$ найти решения методом Эйлера"
   ],
   "metadata": {
    "collapsed": false,
    "pycharm": {
     "name": "#%% md\n"
    }
   }
  },
  {
   "cell_type": "code",
   "execution_count": 18,
   "outputs": [
    {
     "name": "stdout",
     "output_type": "stream",
     "text": [
      "Наибольшое с.ч. матрицы А, rho =  247.254056728369 \n",
      " h1 = 0.05 \n",
      " h2 = 0.001\n",
      "Условие устойчивости выполняется только при работе с h2 (h1 > 2/rho) \n",
      " 2/rho =  0.008088846049539973\n",
      "Решения полученные методом Эйлера:\n"
     ]
    },
    {
     "data": {
      "text/plain": "$x$       0.0        0.1        0.2        0.3          0.4          0.5\nh = 0.05                                                                \ny1          1    1.44891    68.7529     8767.1  1.13183e+06  1.46131e+08\ny2          1   0.408906   -66.4864   -8694.68 -1.12268e+06 -1.44951e+08\ny1* - y1    0  -0.538254   -67.9203   -8766.34 -1.13183e+06 -1.46131e+08\ny2* - y2    0   0.509164    67.3259    8695.44  1.12268e+06  1.44951e+08\nh = 0.001                                                               \ny1          1   0.924314    0.85785   0.796166     0.738917     0.685784\ny2          1   0.931844   0.864839   0.802652     0.744936     0.691371\ny1* - y1    0  -0.013662 -0.0251718 -0.0347844   -0.0427278   -0.0492057\ny2* - y2    0 -0.0137733 -0.0253769 -0.0350678   -0.0430759   -0.0496065",
      "text/html": "<div>\n<style scoped>\n    .dataframe tbody tr th:only-of-type {\n        vertical-align: middle;\n    }\n\n    .dataframe tbody tr th {\n        vertical-align: top;\n    }\n\n    .dataframe thead th {\n        text-align: right;\n    }\n</style>\n<table border=\"1\" class=\"dataframe\">\n  <thead>\n    <tr style=\"text-align: right;\">\n      <th>$x$</th>\n      <th>0.0</th>\n      <th>0.1</th>\n      <th>0.2</th>\n      <th>0.3</th>\n      <th>0.4</th>\n      <th>0.5</th>\n    </tr>\n  </thead>\n  <tbody>\n    <tr>\n      <th>h = 0.05</th>\n      <td></td>\n      <td></td>\n      <td></td>\n      <td></td>\n      <td></td>\n      <td></td>\n    </tr>\n    <tr>\n      <th>y1</th>\n      <td>1</td>\n      <td>1.44891</td>\n      <td>68.7529</td>\n      <td>8767.1</td>\n      <td>1.13183e+06</td>\n      <td>1.46131e+08</td>\n    </tr>\n    <tr>\n      <th>y2</th>\n      <td>1</td>\n      <td>0.408906</td>\n      <td>-66.4864</td>\n      <td>-8694.68</td>\n      <td>-1.12268e+06</td>\n      <td>-1.44951e+08</td>\n    </tr>\n    <tr>\n      <th>y1* - y1</th>\n      <td>0</td>\n      <td>-0.538254</td>\n      <td>-67.9203</td>\n      <td>-8766.34</td>\n      <td>-1.13183e+06</td>\n      <td>-1.46131e+08</td>\n    </tr>\n    <tr>\n      <th>y2* - y2</th>\n      <td>0</td>\n      <td>0.509164</td>\n      <td>67.3259</td>\n      <td>8695.44</td>\n      <td>1.12268e+06</td>\n      <td>1.44951e+08</td>\n    </tr>\n    <tr>\n      <th>h = 0.001</th>\n      <td></td>\n      <td></td>\n      <td></td>\n      <td></td>\n      <td></td>\n      <td></td>\n    </tr>\n    <tr>\n      <th>y1</th>\n      <td>1</td>\n      <td>0.924314</td>\n      <td>0.85785</td>\n      <td>0.796166</td>\n      <td>0.738917</td>\n      <td>0.685784</td>\n    </tr>\n    <tr>\n      <th>y2</th>\n      <td>1</td>\n      <td>0.931844</td>\n      <td>0.864839</td>\n      <td>0.802652</td>\n      <td>0.744936</td>\n      <td>0.691371</td>\n    </tr>\n    <tr>\n      <th>y1* - y1</th>\n      <td>0</td>\n      <td>-0.013662</td>\n      <td>-0.0251718</td>\n      <td>-0.0347844</td>\n      <td>-0.0427278</td>\n      <td>-0.0492057</td>\n    </tr>\n    <tr>\n      <th>y2* - y2</th>\n      <td>0</td>\n      <td>-0.0137733</td>\n      <td>-0.0253769</td>\n      <td>-0.0350678</td>\n      <td>-0.0430759</td>\n      <td>-0.0496065</td>\n    </tr>\n  </tbody>\n</table>\n</div>"
     },
     "execution_count": 18,
     "metadata": {},
     "output_type": "execute_result"
    }
   ],
   "source": [
    "name = \"/home/tatyana/PycharmProjects/Computationals_2/matrix5.txt\"\n",
    "\n",
    "A = np.loadtxt(name)\n",
    "h, h1, h2 = 0.1, 0.05, 0.001\n",
    "t1, t2 = 0, 0.5\n",
    "y0 = [1, 1]\n",
    "xx = [round(x, 2) for x in np.arange(0, 0.6, 0.1)]\n",
    "\n",
    "w, v = LA.eig(A)      # собственные числа и векторы матрицы A\n",
    "rho = max(abs(w))\n",
    "print(\"Наибольшое с.ч. матрицы А, rho = \", rho, '\\n', \"h1 = 0.05\", '\\n', \"h2 = 0.001\")\n",
    "print(\"Условие устойчивости выполняется только при работе с h2 (h1 > 2/rho)\", '\\n', \"2/rho = \", 2/rho)\n",
    "print(\"Решения полученные методом Эйлера:\")\n",
    "result1_1, result1_2 = diffs.Euler(A, t1, t2,h, h1, y0)     #h=0.05\n",
    "blind = [\" \"]*len(xx)\n",
    "errs1_1 = [y1[i] - result1_1[i] for i in range(len(xx))]\n",
    "errs1_2 = [y2[i] - result1_2[i] for i in range(len(xx))]\n",
    "result1_1_1, result1_2_2 = diffs.Euler(A, t1, t2, h, h2, y0)       #h=0.001\n",
    "errs1_1_1 = [y1[i] - result1_1_1[i] for i in range(len(xx))]\n",
    "errs1_2_2 = [y2[i] - result1_2_2[i] for i in range(len(xx))]\n",
    "\n",
    "data = [blind, result1_1, result1_2, errs1_1, errs1_2, blind, result1_1_1, result1_2_2, errs1_1_1, errs1_2_2]\n",
    "indexes = [\n",
    "    \"h = 0.05\",\n",
    "    \"y1\",\n",
    "    \"y2\",\n",
    "    \"y1* - y1\",\n",
    "    \"y2* - y2\",\n",
    "    \"h = 0.001\",\n",
    "    \"y1\",\n",
    "    \"y2\",\n",
    "    \"y1* - y1\",\n",
    "    \"y2* - y2\"\n",
    "]\n",
    "df1 = pd.DataFrame(data, index = indexes, columns=xx)\n",
    "df1.columns.name = \"$x$\"\n",
    "df1"
   ],
   "metadata": {
    "collapsed": false,
    "pycharm": {
     "name": "#%%\n"
    }
   }
  },
  {
   "cell_type": "markdown",
   "source": [
    "На отрезке $[0, 0.5]$ с шагом $h = 0.05$ и $h = 0.001$ найти решения обратным методом Эйлера\n"
   ],
   "metadata": {
    "collapsed": false,
    "pycharm": {
     "name": "#%% md\n"
    }
   }
  },
  {
   "cell_type": "code",
   "execution_count": 19,
   "outputs": [
    {
     "name": "stdout",
     "output_type": "stream",
     "text": [
      "Решения полученные обратным методом Эйлера:\n"
     ]
    },
    {
     "data": {
      "text/plain": "$x$       0.0        0.1        0.2        0.3        0.4        0.5\nh = 0.05                                                            \ny1          1   0.925618    0.86023   0.799481   0.743022   0.690551\ny2          1   0.933113   0.867238   0.805994   0.749075   0.696176\ny1* - y1    0 -0.0149662 -0.0275519    -0.0381 -0.0468335 -0.0539721\ny2* - y2    0 -0.0150424 -0.0277761 -0.0384104 -0.0472151 -0.0544118\nh = 0.001                                                           \ny1          1   0.924365   0.857946   0.796299   0.739081   0.685975\ny2          1   0.931896   0.864935   0.802786   0.745102   0.691563\ny1* - y1    0 -0.0137135 -0.0252673 -0.0349174 -0.0428923 -0.0493965\ny2* - y2    0 -0.0138252 -0.0254731 -0.0352018 -0.0432417 -0.0497989",
      "text/html": "<div>\n<style scoped>\n    .dataframe tbody tr th:only-of-type {\n        vertical-align: middle;\n    }\n\n    .dataframe tbody tr th {\n        vertical-align: top;\n    }\n\n    .dataframe thead th {\n        text-align: right;\n    }\n</style>\n<table border=\"1\" class=\"dataframe\">\n  <thead>\n    <tr style=\"text-align: right;\">\n      <th>$x$</th>\n      <th>0.0</th>\n      <th>0.1</th>\n      <th>0.2</th>\n      <th>0.3</th>\n      <th>0.4</th>\n      <th>0.5</th>\n    </tr>\n  </thead>\n  <tbody>\n    <tr>\n      <th>h = 0.05</th>\n      <td></td>\n      <td></td>\n      <td></td>\n      <td></td>\n      <td></td>\n      <td></td>\n    </tr>\n    <tr>\n      <th>y1</th>\n      <td>1</td>\n      <td>0.925618</td>\n      <td>0.86023</td>\n      <td>0.799481</td>\n      <td>0.743022</td>\n      <td>0.690551</td>\n    </tr>\n    <tr>\n      <th>y2</th>\n      <td>1</td>\n      <td>0.933113</td>\n      <td>0.867238</td>\n      <td>0.805994</td>\n      <td>0.749075</td>\n      <td>0.696176</td>\n    </tr>\n    <tr>\n      <th>y1* - y1</th>\n      <td>0</td>\n      <td>-0.0149662</td>\n      <td>-0.0275519</td>\n      <td>-0.0381</td>\n      <td>-0.0468335</td>\n      <td>-0.0539721</td>\n    </tr>\n    <tr>\n      <th>y2* - y2</th>\n      <td>0</td>\n      <td>-0.0150424</td>\n      <td>-0.0277761</td>\n      <td>-0.0384104</td>\n      <td>-0.0472151</td>\n      <td>-0.0544118</td>\n    </tr>\n    <tr>\n      <th>h = 0.001</th>\n      <td></td>\n      <td></td>\n      <td></td>\n      <td></td>\n      <td></td>\n      <td></td>\n    </tr>\n    <tr>\n      <th>y1</th>\n      <td>1</td>\n      <td>0.924365</td>\n      <td>0.857946</td>\n      <td>0.796299</td>\n      <td>0.739081</td>\n      <td>0.685975</td>\n    </tr>\n    <tr>\n      <th>y2</th>\n      <td>1</td>\n      <td>0.931896</td>\n      <td>0.864935</td>\n      <td>0.802786</td>\n      <td>0.745102</td>\n      <td>0.691563</td>\n    </tr>\n    <tr>\n      <th>y1* - y1</th>\n      <td>0</td>\n      <td>-0.0137135</td>\n      <td>-0.0252673</td>\n      <td>-0.0349174</td>\n      <td>-0.0428923</td>\n      <td>-0.0493965</td>\n    </tr>\n    <tr>\n      <th>y2* - y2</th>\n      <td>0</td>\n      <td>-0.0138252</td>\n      <td>-0.0254731</td>\n      <td>-0.0352018</td>\n      <td>-0.0432417</td>\n      <td>-0.0497989</td>\n    </tr>\n  </tbody>\n</table>\n</div>"
     },
     "execution_count": 19,
     "metadata": {},
     "output_type": "execute_result"
    }
   ],
   "source": [
    "print(\"Решения полученные обратным методом Эйлера:\")\n",
    "result2_1, result2_2 = diffs.Rev_Euler(A, t1, t2, h, h1, y0)    #h=0.05\n",
    "errs2_1 = [y1[i] - result2_1[i] for i in range(len(xx))]\n",
    "errs2_2 = [y2[i] - result2_2[i] for i in range(len(xx))]\n",
    "result2_1_1, result2_2_2 = diffs.Rev_Euler(A, t1, t2, h, h2, y0)    #h=0.001\n",
    "errs2_1_1 = [y1[i] - result2_1_1[i] for i in range(len(xx))]\n",
    "errs2_2_2 = [y2[i] - result2_2_2[i] for i in range(len(xx))]\n",
    "\n",
    "data = [blind, result2_1, result2_2, errs2_1, errs2_2, blind, result2_1_1, result2_2_2, errs2_1_1, errs2_2_2]\n",
    "df = pd.DataFrame(data, index = indexes, columns=xx)\n",
    "df.columns.name = \"$x$\"\n",
    "df"
   ],
   "metadata": {
    "collapsed": false,
    "pycharm": {
     "name": "#%%\n"
    }
   }
  },
  {
   "cell_type": "markdown",
   "source": [
    "На отрезке $[0, 0.5]$ с шагом $h = 0.05$ и $h = 0.001$ найти решения методом Адамса\n"
   ],
   "metadata": {
    "collapsed": false,
    "pycharm": {
     "name": "#%% md\n"
    }
   }
  },
  {
   "cell_type": "code",
   "execution_count": 20,
   "outputs": [
    {
     "name": "stdout",
     "output_type": "stream",
     "text": [
      "Наибольшое с.ч. матрицы А, rho =  247.254056728369 \n",
      " h1 = 0.05 \n",
      " h2 = 0.001\n",
      "Условие устойчивости выполняется только при работе с h2 (h1 > 6/rho) \n",
      " 6/rho =  0.02426653814861992\n",
      "Решения полученные методом Эйлера:\n",
      "Решения полученные обратным методом Адамса:\n"
     ]
    },
    {
     "data": {
      "text/plain": "$x$       0.0         0.1        0.2        0.3         0.4          0.5\nh = 0.05                                                                \ny1          1    0.917162    8.60521    2489.66      796539  2.54922e+08\ny2          1    0.875078   -6.87909   -2468.01     -790101 -2.52862e+08\ny1* - y1    0 -0.00651004   -7.77253    -2488.9     -796539 -2.54922e+08\ny2* - y2    0   0.0429929    7.71855    2468.77      790102  2.52862e+08\nh = 0.001                                                               \ny1          1    0.859729   0.797931   0.740576    0.687343     0.637937\ny2          1    0.866732   0.804432   0.746609    0.692943     0.643134\ny1* - y1    0   0.0509233  0.0347472  0.0208054  0.00884573  -0.00135835\ny2* - y2    0   0.0513382  0.0350303  0.0209749  0.00891779  -0.00136942",
      "text/html": "<div>\n<style scoped>\n    .dataframe tbody tr th:only-of-type {\n        vertical-align: middle;\n    }\n\n    .dataframe tbody tr th {\n        vertical-align: top;\n    }\n\n    .dataframe thead th {\n        text-align: right;\n    }\n</style>\n<table border=\"1\" class=\"dataframe\">\n  <thead>\n    <tr style=\"text-align: right;\">\n      <th>$x$</th>\n      <th>0.0</th>\n      <th>0.1</th>\n      <th>0.2</th>\n      <th>0.3</th>\n      <th>0.4</th>\n      <th>0.5</th>\n    </tr>\n  </thead>\n  <tbody>\n    <tr>\n      <th>h = 0.05</th>\n      <td></td>\n      <td></td>\n      <td></td>\n      <td></td>\n      <td></td>\n      <td></td>\n    </tr>\n    <tr>\n      <th>y1</th>\n      <td>1</td>\n      <td>0.917162</td>\n      <td>8.60521</td>\n      <td>2489.66</td>\n      <td>796539</td>\n      <td>2.54922e+08</td>\n    </tr>\n    <tr>\n      <th>y2</th>\n      <td>1</td>\n      <td>0.875078</td>\n      <td>-6.87909</td>\n      <td>-2468.01</td>\n      <td>-790101</td>\n      <td>-2.52862e+08</td>\n    </tr>\n    <tr>\n      <th>y1* - y1</th>\n      <td>0</td>\n      <td>-0.00651004</td>\n      <td>-7.77253</td>\n      <td>-2488.9</td>\n      <td>-796539</td>\n      <td>-2.54922e+08</td>\n    </tr>\n    <tr>\n      <th>y2* - y2</th>\n      <td>0</td>\n      <td>0.0429929</td>\n      <td>7.71855</td>\n      <td>2468.77</td>\n      <td>790102</td>\n      <td>2.52862e+08</td>\n    </tr>\n    <tr>\n      <th>h = 0.001</th>\n      <td></td>\n      <td></td>\n      <td></td>\n      <td></td>\n      <td></td>\n      <td></td>\n    </tr>\n    <tr>\n      <th>y1</th>\n      <td>1</td>\n      <td>0.859729</td>\n      <td>0.797931</td>\n      <td>0.740576</td>\n      <td>0.687343</td>\n      <td>0.637937</td>\n    </tr>\n    <tr>\n      <th>y2</th>\n      <td>1</td>\n      <td>0.866732</td>\n      <td>0.804432</td>\n      <td>0.746609</td>\n      <td>0.692943</td>\n      <td>0.643134</td>\n    </tr>\n    <tr>\n      <th>y1* - y1</th>\n      <td>0</td>\n      <td>0.0509233</td>\n      <td>0.0347472</td>\n      <td>0.0208054</td>\n      <td>0.00884573</td>\n      <td>-0.00135835</td>\n    </tr>\n    <tr>\n      <th>y2* - y2</th>\n      <td>0</td>\n      <td>0.0513382</td>\n      <td>0.0350303</td>\n      <td>0.0209749</td>\n      <td>0.00891779</td>\n      <td>-0.00136942</td>\n    </tr>\n  </tbody>\n</table>\n</div>"
     },
     "execution_count": 20,
     "metadata": {},
     "output_type": "execute_result"
    }
   ],
   "source": [
    "Y0 = [1, 1]\n",
    "Y1 = [result2_1[1], result2_2[1]]\n",
    "result3_1, result3_2 = diffs.Adams(A, t1, t2, h, h1, Y0, Y1)    # шаг h=0.05\n",
    "errs3_1 = [y1[i] - result3_1[i] for i in range(len(xx))]\n",
    "errs3_2 = [y2[i] - result3_2[i] for i in range(len(xx))]\n",
    "result3_1_1, result3_2_2 = diffs.Adams(A, t1, t2, h, h2, Y0, Y1)    #h=0.001\n",
    "errs3_1_1 = [y1[i] - result3_1_1[i] for i in range(len(xx))]\n",
    "errs3_2_2 = [y2[i] - result3_2_2[i] for i in range(len(xx))]\n",
    "\n",
    "print(\"Наибольшое с.ч. матрицы А, rho = \", rho, '\\n', \"h1 = 0.05\", '\\n', \"h2 = 0.001\")\n",
    "print(\"Условие устойчивости выполняется только при работе с h2 (h1 > 6/rho)\", '\\n', \"6/rho = \", 6/rho)\n",
    "\n",
    "print(\"Решения полученные обратным методом Адамса:\")\n",
    "data = [blind, result3_1, result3_2, errs3_1, errs3_2, blind, result3_1_1, result3_2_2, errs3_1_1, errs3_2_2]\n",
    "df = pd.DataFrame(data, index = indexes, columns=xx)\n",
    "df.columns.name = \"$x$\"\n",
    "df"
   ],
   "metadata": {
    "collapsed": false,
    "pycharm": {
     "name": "#%%\n"
    }
   }
  }
 ],
 "metadata": {
  "kernelspec": {
   "name": "pycharm-671264a7",
   "language": "python",
   "display_name": "PyCharm (Вычи)"
  },
  "language_info": {
   "codemirror_mode": {
    "name": "ipython",
    "version": 2
   },
   "file_extension": ".py",
   "mimetype": "text/x-python",
   "name": "python",
   "nbconvert_exporter": "python",
   "pygments_lexer": "ipython2",
   "version": "2.7.6"
  }
 },
 "nbformat": 4,
 "nbformat_minor": 0
}