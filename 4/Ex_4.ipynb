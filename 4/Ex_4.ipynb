{
 "cells": [
  {
   "cell_type": "markdown",
   "source": [
    "#### Задача Коши для обыкновенного дифференциального уравнения 1-го порядка.\n",
    "5 вариант\n",
    "\n",
    "$y' = 1 - sin \\cdot(1.25x + y) - \\frac{0.1y}{2 + x}$ , $y(0) = 0$"
   ],
   "metadata": {
    "collapsed": false
   }
  },
  {
   "cell_type": "markdown",
   "metadata": {
    "collapsed": true,
    "pycharm": {
     "name": "#%% md\n"
    }
   },
   "source": [
    "1. Таблица решений y_math шагом $h=0.1$ на отрезке $[0, 0.5]$"
   ]
  },
  {
   "cell_type": "code",
   "source": [
    "import pandas as pd\n",
    "import numpy as np\n",
    "import fun"
   ],
   "metadata": {
    "collapsed": false,
    "pycharm": {
     "name": "#%%\n"
    }
   },
   "execution_count": 56,
   "outputs": []
  },
  {
   "cell_type": "code",
   "execution_count": 57,
   "outputs": [
    {
     "data": {
      "text/plain": "$x$       $y$\n0.0  0.000000\n0.1  0.100000\n0.2  0.177213\n0.3  0.234974\n0.4  0.276668\n0.5  0.305424",
      "text/html": "<div>\n<style scoped>\n    .dataframe tbody tr th:only-of-type {\n        vertical-align: middle;\n    }\n\n    .dataframe tbody tr th {\n        vertical-align: top;\n    }\n\n    .dataframe thead th {\n        text-align: right;\n    }\n</style>\n<table border=\"1\" class=\"dataframe\">\n  <thead>\n    <tr style=\"text-align: right;\">\n      <th>$x$</th>\n      <th>$y$</th>\n    </tr>\n  </thead>\n  <tbody>\n    <tr>\n      <th>0.0</th>\n      <td>0.000000</td>\n    </tr>\n    <tr>\n      <th>0.1</th>\n      <td>0.100000</td>\n    </tr>\n    <tr>\n      <th>0.2</th>\n      <td>0.177213</td>\n    </tr>\n    <tr>\n      <th>0.3</th>\n      <td>0.234974</td>\n    </tr>\n    <tr>\n      <th>0.4</th>\n      <td>0.276668</td>\n    </tr>\n    <tr>\n      <th>0.5</th>\n      <td>0.305424</td>\n    </tr>\n  </tbody>\n</table>\n</div>"
     },
     "execution_count": 57,
     "metadata": {},
     "output_type": "execute_result"
    }
   ],
   "source": [
    "y_math = [0, 0.1, 0.177213, 0.234974, 0.276668, 0.305424]\n",
    "data = y_math\n",
    "xx = [round(x, 2) for x in np.arange(0, 0.6, 0.1)]\n",
    "indexes = [\"$y$\"]\n",
    "df = pd.DataFrame(data, index = xx, columns = indexes)\n",
    "df.columns.name = \"$x$\"\n",
    "\n",
    "df\n"
   ],
   "metadata": {
    "collapsed": false,
    "pycharm": {
     "name": "#%%\n"
    }
   }
  },
  {
   "cell_type": "markdown",
   "source": [
    "2. Улучшенный метод эйлера (м. трапеций)\n",
    "\n",
    "$[0, 0.5]$\n",
    "\n",
    "а) h - y_h\n",
    "б) h/2 - y_h_2\n",
    "в) уточн. решение по Ричардсону - y_rev\n",
    "\n",
    "3. Вывести таблицу значений"
   ],
   "metadata": {
    "collapsed": false,
    "pycharm": {
     "name": "#%% md\n"
    }
   }
  },
  {
   "cell_type": "code",
   "source": [
    "a, b, h, h_2 = 0, 0.5, 0.1, 0.05\n",
    "y_a = 0\n",
    "n = len(xx)\n",
    "y_h = [0]*n\n",
    "y_h[0] = y_a\n",
    "\n",
    "y_h = fun.Euler(y_h, xx, h)\n",
    "\n",
    "xx_2 = [round(x, 2) for x in np.arange(0, 0.6, h_2)]\n",
    "n_2 = len(xx_2)\n",
    "Y_h_2 = [0]*n_2\n",
    "y_h_2 = [0]*n\n",
    "Y_h_2[0] = y_a\n",
    "\n",
    "Y_h_2 = fun.Euler(Y_h_2, xx_2, h_2)\n",
    "for i in range(0, n_2, 2):\n",
    "    y_h_2[i//2] = Y_h_2[i]\n",
    "\n",
    "R = [0]*n\n",
    "y_rev = [0]*n\n",
    "s = 2\n",
    "\n",
    "for i in range(n):\n",
    "    R[i] = (y_h_2[i] - y_h[i])/(2**s - 1)\n",
    "    y_rev[i] = y_h_2[i] + R[i]\n",
    "\n",
    "errs = [0]*n\n",
    "for i in range(n):\n",
    "    errs[i] = y_rev[i] - y_math[i]\n",
    "data = [y_h, y_h_2, y_rev, errs]\n",
    "indexes = [\n",
    "    \"y_h\",\n",
    "    \"y_h_2\",\n",
    "    \"y_rev\",\n",
    "    \"y_rev - y_math\"\n",
    "]\n",
    "df = pd.DataFrame(data, index= indexes, columns=xx).T\n",
    "df.columns.name = \"$x$\"\n",
    "df\n",
    "\n"
   ],
   "metadata": {
    "collapsed": false,
    "pycharm": {
     "name": "#%%\n"
    }
   },
   "execution_count": 58,
   "outputs": [
    {
     "data": {
      "text/plain": "$x$       y_h     y_h_2     y_rev  y_rev - y_math\n0.0  0.000000  0.000000  0.000000        0.000000\n0.1  0.088607  0.088859  0.088943       -0.011057\n0.2  0.157166  0.157552  0.157681       -0.019532\n0.3  0.208643  0.209076  0.209220       -0.025754\n0.4  0.245931  0.246353  0.246494       -0.030174\n0.5  0.271702  0.272076  0.272201       -0.033223",
      "text/html": "<div>\n<style scoped>\n    .dataframe tbody tr th:only-of-type {\n        vertical-align: middle;\n    }\n\n    .dataframe tbody tr th {\n        vertical-align: top;\n    }\n\n    .dataframe thead th {\n        text-align: right;\n    }\n</style>\n<table border=\"1\" class=\"dataframe\">\n  <thead>\n    <tr style=\"text-align: right;\">\n      <th>$x$</th>\n      <th>y_h</th>\n      <th>y_h_2</th>\n      <th>y_rev</th>\n      <th>y_rev - y_math</th>\n    </tr>\n  </thead>\n  <tbody>\n    <tr>\n      <th>0.0</th>\n      <td>0.000000</td>\n      <td>0.000000</td>\n      <td>0.000000</td>\n      <td>0.000000</td>\n    </tr>\n    <tr>\n      <th>0.1</th>\n      <td>0.088607</td>\n      <td>0.088859</td>\n      <td>0.088943</td>\n      <td>-0.011057</td>\n    </tr>\n    <tr>\n      <th>0.2</th>\n      <td>0.157166</td>\n      <td>0.157552</td>\n      <td>0.157681</td>\n      <td>-0.019532</td>\n    </tr>\n    <tr>\n      <th>0.3</th>\n      <td>0.208643</td>\n      <td>0.209076</td>\n      <td>0.209220</td>\n      <td>-0.025754</td>\n    </tr>\n    <tr>\n      <th>0.4</th>\n      <td>0.245931</td>\n      <td>0.246353</td>\n      <td>0.246494</td>\n      <td>-0.030174</td>\n    </tr>\n    <tr>\n      <th>0.5</th>\n      <td>0.271702</td>\n      <td>0.272076</td>\n      <td>0.272201</td>\n      <td>-0.033223</td>\n    </tr>\n  </tbody>\n</table>\n</div>"
     },
     "execution_count": 58,
     "metadata": {},
     "output_type": "execute_result"
    }
   ]
  },
  {
   "cell_type": "code",
   "execution_count": 59,
   "outputs": [
    {
     "data": {
      "text/plain": "<Figure size 432x288 with 1 Axes>",
      "image/png": "[encoded data removed]"
     },
     "metadata": {
      "needs_background": "light"
     },
     "output_type": "display_data"
    }
   ],
   "source": [
    "from matplotlib import pyplot as plt\n",
    "\n",
    "plt.plot(xx, y_h, 'g.')\n",
    "plt.plot(xx, y_h_2, 'b.')\n",
    "plt.plot(xx, y_rev, 'r.')\n",
    "\n",
    "\n",
    "\n",
    "plt.xlabel(\"x\")\n",
    "plt.ylabel(\"y\")\n",
    "plt.show()\n"
   ],
   "metadata": {
    "collapsed": false,
    "pycharm": {
     "name": "#%%\n"
    }
   }
  },
  {
   "cell_type": "markdown",
   "source": [
    "5. Метод Рунге-Кутты 4-го порядка"
   ],
   "metadata": {
    "collapsed": false,
    "pycharm": {
     "name": "#%% md\n"
    }
   }
  },
  {
   "cell_type": "code",
   "execution_count": 60,
   "outputs": [
    {
     "name": "stdout",
     "output_type": "stream",
     "text": [
      "Решения, полученные методом Рунге-Кутты [0, 0.0889404120646352, 0.157677387266089, 0.20921728864481295, 0.24649311927953876, 0.27220160555376705]\n",
      "Погрешность:  [0, 0.011059587935364809, 0.019535612733911023, 0.025756711355187034, 0.03017488072046126, 0.03322239444623293]\n"
     ]
    }
   ],
   "source": [
    "xx_2 = [round(x, 2) for x in np.arange(0, 0.6, h_2)]\n",
    "n_2 = len(xx_2)\n",
    "Y_RK_2 = [0]*n_2\n",
    "y_RK_2 = [0]*n\n",
    "Y_RK_2[0] = y_a\n",
    "\n",
    "Y_RK_2 = fun.Runge_Kut(Y_RK_2, xx_2, h_2)\n",
    "for i in range(0, n_2, 2):\n",
    "    y_RK_2[i//2] = Y_RK_2[i]\n",
    "\n",
    "errs_RK_2 = [0]*n\n",
    "for i in range(n):\n",
    "    errs_RK_2[i] = np.abs(y_RK_2[i] - y_math[i] )\n",
    "\n",
    "print(\"Решения, полученные методом Рунге-Кутты\", y_RK_2)\n",
    "print(\"Погрешность: \", errs_RK_2)\n"
   ],
   "metadata": {
    "collapsed": false,
    "pycharm": {
     "name": "#%%\n"
    }
   }
  },
  {
   "cell_type": "markdown",
   "source": [
    "6. Экстраполяционный метод Адамса 4-го порядка"
   ],
   "metadata": {
    "collapsed": false,
    "pycharm": {
     "name": "#%% md\n"
    }
   }
  },
  {
   "cell_type": "code",
   "execution_count": 61,
   "outputs": [],
   "source": [
    "xx = [round(x, 2) for x in np.arange(4*h_2, 0.5+h_2, h_2)]\n",
    "y_Ad_ex = [0]*len(xx)\n",
    "for i in range(5):\n",
    "    y_Ad_ex[i] = Y_RK_2[i+4]\n",
    "y_Ad_ex = fun.Adams_ex(y_Ad_ex, xx, h_2)\n"
   ],
   "metadata": {
    "collapsed": false,
    "pycharm": {
     "name": "#%%\n"
    }
   }
  },
  {
   "cell_type": "markdown",
   "source": [
    "7. Интерполяционный метод Адамса 4-го порядка"
   ],
   "metadata": {
    "collapsed": false,
    "pycharm": {
     "name": "#%% md\n"
    }
   }
  },
  {
   "cell_type": "code",
   "execution_count": 62,
   "outputs": [],
   "source": [
    "xx = [round(x, 2) for x in np.arange(4*h_2, 0.5+h_2, h_2)]\n",
    "y_Ad_in = [0]*len(xx)\n",
    "for i in range(4):\n",
    "    y_Ad_in[i] = Y_RK_2[i+4]\n",
    "y_Ad_in = fun.Adams_in(y_Ad_ex, y_Ad_in, xx, h_2)\n"
   ],
   "metadata": {
    "collapsed": false,
    "pycharm": {
     "name": "#%%\n"
    }
   }
  },
  {
   "cell_type": "code",
   "execution_count": 63,
   "outputs": [
    {
     "data": {
      "text/plain": "$x$    y_AD_ex  y_math - y_AD_ex   y_AD_in  y_math - y_AD_in\n0.20  0.157677          0.009418  0.157677          0.009418\n0.25  0.185409          0.011051  0.185409          0.011051\n0.30  0.209217          0.012443  0.209217          0.012443\n0.35  0.229463          0.013621  0.229463          0.013621\n0.40  0.246493          0.014612  0.246493          0.014612\n0.45  0.260635          0.015440  0.260636          0.015439\n0.50  0.272201          0.016126  0.272202          0.016125",
      "text/html": "<div>\n<style scoped>\n    .dataframe tbody tr th:only-of-type {\n        vertical-align: middle;\n    }\n\n    .dataframe tbody tr th {\n        vertical-align: top;\n    }\n\n    .dataframe thead th {\n        text-align: right;\n    }\n</style>\n<table border=\"1\" class=\"dataframe\">\n  <thead>\n    <tr style=\"text-align: right;\">\n      <th>$x$</th>\n      <th>y_AD_ex</th>\n      <th>y_math - y_AD_ex</th>\n      <th>y_AD_in</th>\n      <th>y_math - y_AD_in</th>\n    </tr>\n  </thead>\n  <tbody>\n    <tr>\n      <th>0.20</th>\n      <td>0.157677</td>\n      <td>0.009418</td>\n      <td>0.157677</td>\n      <td>0.009418</td>\n    </tr>\n    <tr>\n      <th>0.25</th>\n      <td>0.185409</td>\n      <td>0.011051</td>\n      <td>0.185409</td>\n      <td>0.011051</td>\n    </tr>\n    <tr>\n      <th>0.30</th>\n      <td>0.209217</td>\n      <td>0.012443</td>\n      <td>0.209217</td>\n      <td>0.012443</td>\n    </tr>\n    <tr>\n      <th>0.35</th>\n      <td>0.229463</td>\n      <td>0.013621</td>\n      <td>0.229463</td>\n      <td>0.013621</td>\n    </tr>\n    <tr>\n      <th>0.40</th>\n      <td>0.246493</td>\n      <td>0.014612</td>\n      <td>0.246493</td>\n      <td>0.014612</td>\n    </tr>\n    <tr>\n      <th>0.45</th>\n      <td>0.260635</td>\n      <td>0.015440</td>\n      <td>0.260636</td>\n      <td>0.015439</td>\n    </tr>\n    <tr>\n      <th>0.50</th>\n      <td>0.272201</td>\n      <td>0.016126</td>\n      <td>0.272202</td>\n      <td>0.016125</td>\n    </tr>\n  </tbody>\n</table>\n</div>"
     },
     "execution_count": 63,
     "metadata": {},
     "output_type": "execute_result"
    }
   ],
   "source": [
    "y_math_2 = [0.167095, 0.19646, 0.22166, 0.243084, 0.261105, 0.276075, 0.288327]\n",
    "\n",
    "errs1 = [0]*len(xx)\n",
    "errs2 = [0]*len(xx)\n",
    "\n",
    "for i in range(len(xx)):\n",
    "    errs1[i] = y_math_2[i] - y_Ad_ex[i]\n",
    "    errs2[i] = y_math_2[i] - y_Ad_in[i]\n",
    "\n",
    "data = [y_Ad_ex, errs1, y_Ad_in, errs2]\n",
    "indexes = [\n",
    "    \"y_AD_ex\",\n",
    "    \"y_math - y_AD_ex\",\n",
    "    \"y_AD_in\",\n",
    "    \"y_math - y_AD_in\"\n",
    "]\n",
    "df = pd.DataFrame(data, index= indexes, columns=xx).T\n",
    "df.columns.name = \"$x$\"\n",
    "df\n"
   ],
   "metadata": {
    "collapsed": false,
    "pycharm": {
     "name": "#%%\n"
    }
   }
  }
 ],
 "metadata": {
  "kernelspec": {
   "name": "pycharm-671264a7",
   "language": "python",
   "display_name": "PyCharm (Вычи)"
  },
  "language_info": {
   "codemirror_mode": {
    "name": "ipython",
    "version": 2
   },
   "file_extension": ".py",
   "mimetype": "text/x-python",
   "name": "python",
   "nbconvert_exporter": "python",
   "pygments_lexer": "ipython2",
   "version": "2.7.6"
  }
 },
 "nbformat": 4,
 "nbformat_minor": 0
}