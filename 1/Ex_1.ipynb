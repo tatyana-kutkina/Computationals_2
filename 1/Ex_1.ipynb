{
 "cells": [
  {
   "cell_type": "markdown",
   "source": [
    "### Схема Гаусса решения СЛАУ. Нахождение обратной матрицы. Вычисление числа обусловленности."
   ],
   "metadata": {
    "collapsed": false
   }
  },
  {
   "cell_type": "markdown",
   "source": [
    "#### Вариант 5\n",
    "\n",
    "Дана система $Ax=b$\n",
    "\n",
    "$ A = \\begin{pmatrix} 8.673134 & 1.041039 & -2.677712 \\\\ 1.041039 & 6.586211 & 0.62301 \\\\ -2.677712 & 0.623016 & 5.225935\n",
    " \\end{pmatrix}$\n",
    "\n",
    "$ b = \\begin{pmatrix} -1.289879 \\\\ 4.020225 \\\\ 5.269671 \\end{pmatrix} $\n"
   ],
   "metadata": {
    "collapsed": false,
    "pycharm": {
     "name": "#%% md\n"
    }
   }
  },
  {
   "cell_type": "markdown",
   "source": [
    "1. Нахождение обратной матрицы с помощью LU - разложения"
   ],
   "metadata": {
    "collapsed": false,
    "pycharm": {
     "name": "#%% md\n"
    }
   }
  },
  {
   "cell_type": "code",
   "execution_count": 13,
   "outputs": [
    {
     "name": "stdout",
     "output_type": "stream",
     "text": [
      "Обратная матрица:\n"
     ]
    },
    {
     "data": {
      "text/plain": "       0      1      2\n0  0.142 -0.030  0.077\n1 -0.030  0.160 -0.034\n2  0.077 -0.034  0.235",
      "text/html": "<div>\n<style scoped>\n    .dataframe tbody tr th:only-of-type {\n        vertical-align: middle;\n    }\n\n    .dataframe tbody tr th {\n        vertical-align: top;\n    }\n\n    .dataframe thead th {\n        text-align: right;\n    }\n</style>\n<table border=\"1\" class=\"dataframe\">\n  <thead>\n    <tr style=\"text-align: right;\">\n      <th></th>\n      <th>0</th>\n      <th>1</th>\n      <th>2</th>\n    </tr>\n  </thead>\n  <tbody>\n    <tr>\n      <th>0</th>\n      <td>0.142</td>\n      <td>-0.030</td>\n      <td>0.077</td>\n    </tr>\n    <tr>\n      <th>1</th>\n      <td>-0.030</td>\n      <td>0.160</td>\n      <td>-0.034</td>\n    </tr>\n    <tr>\n      <th>2</th>\n      <td>0.077</td>\n      <td>-0.034</td>\n      <td>0.235</td>\n    </tr>\n  </tbody>\n</table>\n</div>"
     },
     "execution_count": 13,
     "metadata": {},
     "output_type": "execute_result"
    }
   ],
   "source": [
    "import pandas as pd\n",
    "import read_matrix as rd\n",
    "import reverse_matrix as rv\n",
    "import matrix_funs\n",
    "\n",
    "\n",
    "# читаем матрицу\n",
    "filename = 'matrix_try.txt'\n",
    "a, b = rd.read_matrix(filename)\n",
    "\n",
    "# находим обратную матрицу\n",
    "a_rev = rv.reverse_matrix(a)\n",
    "print('Обратная матрица:')\n",
    "df = pd.DataFrame(a_rev)\n",
    "df"
   ],
   "metadata": {
    "collapsed": false,
    "pycharm": {
     "name": "#%%\n"
    }
   }
  },
  {
   "cell_type": "markdown",
   "source": [
    "2. Находим число обусловленности по формуле: $ \\mu(A) = ||A|| \\cdot ||A^{-1}||$"
   ],
   "metadata": {
    "collapsed": false,
    "pycharm": {
     "name": "#%% md\n"
    }
   }
  },
  {
   "cell_type": "code",
   "execution_count": 14,
   "outputs": [
    {
     "name": "stdout",
     "output_type": "stream",
     "text": [
      "2.2935739479999997\n"
     ]
    }
   ],
   "source": [
    "number = matrix_funs.matrix_norm(a)*matrix_funs.matrix_norm(a_rev)\n",
    "print(number)"
   ],
   "metadata": {
    "collapsed": false,
    "pycharm": {
     "name": "#%%\n"
    }
   }
  },
  {
   "cell_type": "markdown",
   "source": [
    "3. Решить систему методом Гаусса с помощью выбора главного элемента (по столбцам)"
   ],
   "metadata": {
    "collapsed": false,
    "pycharm": {
     "name": "#%% md\n"
    }
   }
  },
  {
   "cell_type": "code",
   "execution_count": 15,
   "outputs": [
    {
     "name": "stdout",
     "output_type": "stream",
     "text": [
      "[0.1 0.5 1. ]\n"
     ]
    }
   ],
   "source": [
    "# находим решение системы\n",
    "solve = matrix_funs.Gauss(a, b)\n",
    "print(solve)"
   ],
   "metadata": {
    "collapsed": false,
    "pycharm": {
     "name": "#%%\n"
    }
   }
  }
 ],
 "metadata": {
  "kernelspec": {
   "name": "pycharm-671264a7",
   "language": "python",
   "display_name": "PyCharm (Вычи)"
  },
  "language_info": {
   "codemirror_mode": {
    "name": "ipython",
    "version": 2
   },
   "file_extension": ".py",
   "mimetype": "text/x-python",
   "name": "python",
   "nbconvert_exporter": "python",
   "pygments_lexer": "ipython2",
   "version": "2.7.6"
  }
 },
 "nbformat": 4,
 "nbformat_minor": 0
}