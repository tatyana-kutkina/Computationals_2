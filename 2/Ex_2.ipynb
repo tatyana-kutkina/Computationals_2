{
 "cells": [
  {
   "cell_type": "markdown",
   "metadata": {
    "collapsed": true,
    "pycharm": {
     "name": "#%% md\n"
    }
   },
   "source": [
    "### Итерационные методы (простой итерации, Зейделя, верхней релаксации) решения СЛАУ.\n",
    "\n"
   ]
  },
  {
   "cell_type": "markdown",
   "source": [
    "Дана система $Ax=b$\n",
    "\n",
    "\n",
    "$ A = \\begin{pmatrix} 8.673134 & 1.041039 & -2.677712 \\\\ 1.041039 & 6.586211 & 0.62301 \\\\ -2.677712 & 0.623016 & 5.225935\n",
    " \\end{pmatrix}$\n",
    "\n",
    " $ b = \\begin{pmatrix} -1.289879 \\\\ 4.020225 \\\\ 5.269671 \\end{pmatrix} $"
   ],
   "metadata": {
    "collapsed": false
   }
  },
  {
   "cell_type": "markdown",
   "source": [
    "#### Найти решение методом Гаусса"
   ],
   "metadata": {
    "collapsed": false,
    "pycharm": {
     "name": "#%% md\n"
    }
   }
  },
  {
   "cell_type": "code",
   "execution_count": 49,
   "outputs": [
    {
     "name": "stdout",
     "output_type": "stream",
     "text": [
      "[0.1 0.5 1. ]\n"
     ]
    }
   ],
   "source": [
    "# импортируем необходимые модули\n",
    "import matrix_funs as mf\n",
    "import numpy as np\n",
    "from numpy import linalg as LA\n",
    "import math\n",
    "import copy\n",
    "\n",
    "\n",
    "name = \"/home/tatyana/PycharmProjects/Computationals_2/matrix_try.txt\"\n",
    "\n",
    "a_ext = np.loadtxt(name)\n",
    "n, m = a_ext.shape\n",
    "a = a_ext[:, 0:m-1]\n",
    "b = a_ext[:,m-1 ]\n",
    "\n",
    "\n",
    "x = mf.Gauss(a, b)\n",
    "print(x)"
   ],
   "metadata": {
    "collapsed": false,
    "pycharm": {
     "name": "#%%\n"
    }
   }
  },
  {
   "cell_type": "markdown",
   "source": [
    "#### Привести систему к виду $x = H_Dx + g_D$ и найти $||H_D||_\\infty$"
   ],
   "metadata": {
    "collapsed": false,
    "pycharm": {
     "name": "#%% md\n"
    }
   }
  },
  {
   "cell_type": "code",
   "execution_count": 50,
   "outputs": [
    {
     "name": "stdout",
     "output_type": "stream",
     "text": [
      "Матрица H_D: \n",
      " [[ 0.         -0.12003031  0.30873638]\n",
      " [-0.15806341  0.         -0.09459399]\n",
      " [ 0.51238907 -0.11921618  0.        ]]\n",
      "Столбец g_D: \n",
      " [-0.14872121  0.61040027  1.00836903]\n",
      "Норма матрицы H_D:  0.6316052534139824\n"
     ]
    }
   ],
   "source": [
    "E_matrix = np.eye(n)\n",
    "D_matrix = np.zeros((n, n))\n",
    "\n",
    "for i in range(n):\n",
    "    D_matrix[i][i] = a[i][i]\n",
    "\n",
    "D_inv = LA.inv(D_matrix)        # матрица обратная к D\n",
    "C = D_inv.dot(a)\n",
    "H_D = E_matrix - C\n",
    "g_D = D_inv.dot(b)      # столбец g_D\n",
    "H_norm = mf.matrix_norm(H_D)        # норма матрицы H_D\n",
    "\n",
    "print(\"Матрица H_D:\",'\\n', H_D)\n",
    "print(\"Столбец g_D:\",'\\n',g_D)\n",
    "print(\"Норма матрицы H_D: \", H_norm)"
   ],
   "metadata": {
    "collapsed": false,
    "pycharm": {
     "name": "#%%\n"
    }
   }
  },
  {
   "cell_type": "markdown",
   "source": [
    "#### Найти априорную оценку $k$ т.ч. $||x^k-x^*||_\\infty<\\epsilon$, $\\epsilon = 0.00001$\n",
    "$||x^k - x^*||\\le||H||^k(||x^o|| + \\frac{||g||}{1 - ||H||})$\n",
    "Для достижения необходимой точности $\\epsilon$ нужно выполнить число итераций $k$, которое является ближайшим\n",
    "натуральным числом таким, что\n",
    "\n",
    "$k \\ge \\frac{\\ln(\\frac{\\epsilon\\cdot(1 - ||H||}{||x^0|| - ||H||\\cdot||x^0|| + ||g||})}\n",
    "{\\ln(||H||)} $\n",
    "\n",
    "Нулевое приближение - нулевой вектор.\n",
    "\n",
    "Тогда неравенство принимает вид:\n",
    "\n",
    "$k \\ge \\frac{\\ln(\\frac{\\epsilon\\cdot(1 - ||H||)}{||g||})}{\\ln(||H||)}$\n"
   ],
   "metadata": {
    "collapsed": false,
    "pycharm": {
     "name": "#%% md\n"
    }
   }
  },
  {
   "cell_type": "code",
   "execution_count": 51,
   "outputs": [
    {
     "name": "stdout",
     "output_type": "stream",
     "text": [
      "априорная оценка k:  28\n"
     ]
    }
   ],
   "source": [
    "# точность вычислений\n",
    "eps = 10**(-5)\n",
    "\n",
    "# норма столбца g_D\n",
    "g_norm = max(np.abs(g_D))\n",
    "\n",
    "# вычисляем правую часть неравенства\n",
    "val_1 = np.log(eps*(1-H_norm)/g_norm)\n",
    "val_2 = np.log(H_norm)\n",
    "val_est =val_1/val_2\n",
    "\n",
    "k_apr = math.ceil(val_est)\n",
    "print(\"априорная оценка k: \", k_apr)"
   ],
   "metadata": {
    "collapsed": false,
    "pycharm": {
     "name": "#%%\n"
    }
   }
  },
  {
   "cell_type": "markdown",
   "source": [
    "#### Метод простейших итераций"
   ],
   "metadata": {
    "collapsed": false,
    "pycharm": {
     "name": "#%% md\n"
    }
   }
  },
  {
   "cell_type": "code",
   "execution_count": 52,
   "outputs": [
    {
     "name": "stdout",
     "output_type": "stream",
     "text": [
      "Получили число итераций:  14\n",
      "Приближенное решение:  [0.09999504 0.50000349 0.99999154]\n",
      "Точное решение:  [0.09999996 0.49999996 0.99999983]\n",
      "Фактическая погрешность:  [4.96163858e-06 3.49476151e-06 8.46274522e-06]\n",
      "Апостериорная оценка:  1.6414682719844036e-05\n",
      "Априорная оценка 0.004400949047236786\n",
      "Уточненное решение по Люстернику:  [0.10000327 0.50000029 0.99999569]\n",
      "Фактическая погрешность по Люстернику:  [3.26623974e-06 2.86550807e-07 4.30733447e-06]\n"
     ]
    }
   ],
   "source": [
    "xx = LA.solve(a, b)\n",
    "\n",
    "x_k = np.zeros(n)\n",
    "x_k_1 = g_D\n",
    "k = 1\n",
    "while max(np.abs(x_k_1 - x)) > eps and k != k_apr :\n",
    "    x_k = copy.copy(x_k_1)\n",
    "    vall = H_D.dot(x_k_1)\n",
    "    x_k_1 = vall + g_D\n",
    "    k += 1\n",
    "\n",
    "print(\"Получили число итераций: \", k)\n",
    "print(\"Приближенное решение: \", x_k_1)\n",
    "print(\"Точное решение: \", xx)\n",
    "print(\"Фактическая погрешность: \", np.abs(x - x_k_1))\n",
    "\n",
    "apostr_est = H_norm/(1 - H_norm)*max(np.abs(x_k_1-x_k))     # апостериорная оценка\n",
    "print(\"Апостериорная оценка: \", apostr_est)\n",
    "\n",
    "apr_est = (H_norm**k)/(1 - H_norm)*g_norm       # априорная оценка\n",
    "print(\"Априорная оценка\", apr_est)\n",
    "\n",
    "# уточним по Люстернику\n",
    "w, v = LA.eig(H_D)      # собственные числа и векторы матрицы H\n",
    "rho_H = max(abs(w))     #спектральный радиус матрицы H\n",
    "\n",
    "x_Lust = x_k + 1/(1 - rho_H)*(x_k_1-x_k)\n",
    "print(\"Уточненное решение по Люстернику: \", x_Lust)\n",
    "\n",
    "print(\"Фактическая погрешность по Люстернику: \", np.abs(x - x_Lust))"
   ],
   "metadata": {
    "collapsed": false,
    "pycharm": {
     "name": "#%%\n"
    }
   }
  },
  {
   "cell_type": "markdown",
   "source": [
    "#### Метод Зейделя, $\\epsilon = 0.00001$\n",
    "\n",
    "$x^{k+1} = (E - H_L)^{-1}\\cdot H_R\\cdot x^k + (E - H_L)^{-1}\\cdot g$"
   ],
   "metadata": {
    "collapsed": false
   }
  },
  {
   "cell_type": "code",
   "execution_count": 53,
   "outputs": [
    {
     "name": "stdout",
     "output_type": "stream",
     "text": [
      "Решение, полученное методом Зейделя:  [0.09999844 0.50000057 0.99999898]\n",
      "Фактическая погрешность:  [1.55591576e-06 5.65984009e-07 1.01779134e-06]\n",
      "Потребовавшееся количество операций:  9\n"
     ]
    }
   ],
   "source": [
    "# разложить матрицу H = H_L + H_R\n",
    "# матрциа H = H_D\n",
    "\n",
    "H = H_D\n",
    "H_L = np.zeros((n, n))\n",
    "H_R = np.zeros((n, n))\n",
    "\n",
    "for i in range(1, n):\n",
    "    j = 0\n",
    "    while j != i:\n",
    "        H_L[i][j] = H[i][j]\n",
    "        j += 1\n",
    "\n",
    "for i in range(0, n):\n",
    "    j = n-1\n",
    "    while j >= i:\n",
    "        H_R[i][j] = H[i][j]\n",
    "        j -= 1\n",
    "\n",
    "m_1 = LA.inv(E_matrix - H_L)       # матрица (E - H_L)^(-1)\n",
    "m_2 = m_1.dot(H_R)\n",
    "\n",
    "x_k = np.zeros(n)\n",
    "x_k_1 = m_1.dot(g_D)\n",
    "k = 1\n",
    "while max(np.abs(x_k_1 - x_k)) > eps:\n",
    "    x_k = copy.copy(x_k_1)\n",
    "    x_k_1 = m_2.dot(x_k) + m_1.dot(g_D)\n",
    "    k += 1\n",
    "\n",
    "\n",
    "\n",
    "print(\"Решение, полученное методом Зейделя: \", x_k_1)\n",
    "print(\"Фактическая погрешность: \", np.abs(x - x_k_1))\n",
    "print(\"Потребовавшееся количество операций: \", k)"
   ],
   "metadata": {
    "collapsed": false,
    "pycharm": {
     "name": "#%%\n"
    }
   }
  },
  {
   "cell_type": "markdown",
   "source": [
    "#### Метод верхней релаксации"
   ],
   "metadata": {
    "collapsed": false,
    "pycharm": {
     "name": "#%% md\n"
    }
   }
  },
  {
   "cell_type": "code",
   "execution_count": 54,
   "outputs": [
    {
     "name": "stdout",
     "output_type": "stream",
     "text": [
      "Решение методом Зейделя:  [0.09999524 0.5000011  0.99999801]\n",
      "Число итераций 6\n",
      "Фактическая погрешность:  [4.76073963e-06 1.10347158e-06 1.98888296e-06]\n"
     ]
    }
   ],
   "source": [
    "q = 2/(1 + math.sqrt(1 - rho_H**2))         # оптимальное q\n",
    "\n",
    "x_k = np.zeros(n)\n",
    "part_val_1 = LA.inv(E_matrix - q*H_L)\n",
    "x_k_1 = part_val_1.dot(q*g_D)\n",
    "k = 1\n",
    "\n",
    "while max(np.abs(x_k_1 - x)) > eps and k!=28 :\n",
    "    x_k = copy.copy(x_k_1)\n",
    "    part_val = H_R.dot(x_k) - x_k + g_D\n",
    "    x_k_1 = part_val_1.dot(x_k + q*part_val)\n",
    "    k += 1\n",
    "print(\"Решение методом Зейделя: \", x_k_1)\n",
    "print(\"Число итераций\", k)\n",
    "print(\"Фактическая погрешность: \", np.abs(x_k_1 - x))"
   ],
   "metadata": {
    "collapsed": false,
    "pycharm": {
     "name": "#%%\n"
    }
   }
  }
 ],
 "metadata": {
  "kernelspec": {
   "name": "pycharm-671264a7",
   "language": "python",
   "display_name": "PyCharm (Вычи)"
  },
  "language_info": {
   "codemirror_mode": {
    "name": "ipython",
    "version": 2
   },
   "file_extension": ".py",
   "mimetype": "text/x-python",
   "name": "python",
   "nbconvert_exporter": "python",
   "pygments_lexer": "ipython2",
   "version": "2.7.6"
  }
 },
 "nbformat": 4,
 "nbformat_minor": 0
}