{
 "cells": [
  {
   "cell_type": "markdown",
   "metadata": {
    "collapsed": true,
    "pycharm": {
     "name": "#%% md\n"
    }
   },
   "source": [
    "### Метод сеток для решения краевой задачи (метод разностной прогонки)"
   ]
  },
  {
   "cell_type": "markdown",
   "source": [
    "5 вариант\n",
    "\n",
    "$ - \\frac{1}{x+3}\\cdot u'' - xu' + \\ln(2+x)\\cdot u = 1 - \\frac{x}{2}$"
   ],
   "metadata": {
    "collapsed": false,
    "pycharm": {
     "name": "#%% md\n"
    }
   }
  },
  {
   "cell_type": "markdown",
   "source": [
    "#### Таблица точных значений"
   ],
   "metadata": {
    "collapsed": false,
    "pycharm": {
     "name": "#%% md\n"
    }
   }
  },
  {
   "cell_type": "code",
   "execution_count": 121,
   "outputs": [
    {
     "data": {
      "text/plain": "x       -1.0    -0.9    -0.8    -0.7    -0.6    -0.5    -0.4   -0.3    -0.2  \\\nY_ex  2.9275  2.9124  2.8671  2.7849  2.6881  2.5395  2.4048  2.233  2.0476   \n\nx       -0.1  ...     0.1     0.2     0.3     0.4    0.5     0.6     0.7  \\\nY_ex  1.8545  ...  1.5127  1.2893  1.1239  0.9767  0.865  0.7444  0.6655   \n\nx        0.8     0.9     1.0  \nY_ex  0.5944  0.5467  0.5142  \n\n[1 rows x 21 columns]",
      "text/html": "<div>\n<style scoped>\n    .dataframe tbody tr th:only-of-type {\n        vertical-align: middle;\n    }\n\n    .dataframe tbody tr th {\n        vertical-align: top;\n    }\n\n    .dataframe thead th {\n        text-align: right;\n    }\n</style>\n<table border=\"1\" class=\"dataframe\">\n  <thead>\n    <tr style=\"text-align: right;\">\n      <th>x</th>\n      <th>-1.0</th>\n      <th>-0.9</th>\n      <th>-0.8</th>\n      <th>-0.7</th>\n      <th>-0.6</th>\n      <th>-0.5</th>\n      <th>-0.4</th>\n      <th>-0.3</th>\n      <th>-0.2</th>\n      <th>-0.1</th>\n      <th>...</th>\n      <th>0.1</th>\n      <th>0.2</th>\n      <th>0.3</th>\n      <th>0.4</th>\n      <th>0.5</th>\n      <th>0.6</th>\n      <th>0.7</th>\n      <th>0.8</th>\n      <th>0.9</th>\n      <th>1.0</th>\n    </tr>\n  </thead>\n  <tbody>\n    <tr>\n      <th>Y_ex</th>\n      <td>2.9275</td>\n      <td>2.9124</td>\n      <td>2.8671</td>\n      <td>2.7849</td>\n      <td>2.6881</td>\n      <td>2.5395</td>\n      <td>2.4048</td>\n      <td>2.233</td>\n      <td>2.0476</td>\n      <td>1.8545</td>\n      <td>...</td>\n      <td>1.5127</td>\n      <td>1.2893</td>\n      <td>1.1239</td>\n      <td>0.9767</td>\n      <td>0.865</td>\n      <td>0.7444</td>\n      <td>0.6655</td>\n      <td>0.5944</td>\n      <td>0.5467</td>\n      <td>0.5142</td>\n    </tr>\n  </tbody>\n</table>\n<p>1 rows × 21 columns</p>\n</div>"
     },
     "execution_count": 121,
     "metadata": {},
     "output_type": "execute_result"
    }
   ],
   "source": [
    "import numpy as np\n",
    "import pandas as pd\n",
    "import sweep_method as sm\n",
    "\n",
    "xx = [round(x, 3) for x in np.arange(-1, 1.1, 0.1)]\n",
    "\n",
    "arr = np.loadtxt(\"arr_6\")\n",
    "indexes = [\"Y_ex\"]\n",
    "df = pd.DataFrame(arr, index = xx, columns = indexes).T\n",
    "df.columns.name = \"x\"\n",
    "df"
   ],
   "metadata": {
    "collapsed": false,
    "pycharm": {
     "name": "#%%\n"
    }
   }
  },
  {
   "cell_type": "code",
   "execution_count": 122,
   "outputs": [],
   "source": [
    "a1, a2, b1, b2, a, b = 0, -1, 1/2, 1, 0, 0\n",
    "x_0 = -1\n",
    "x_n = 1\n",
    "\n",
    "# определим функции данного уравнения\n",
    "\n",
    "def p(x):\n",
    "    return 1/(x+3)\n",
    "def q(x):\n",
    "    return -x\n",
    "def r(x):\n",
    "    return np.log(2 + x)\n",
    "def f(x):\n",
    "    return 1 - x/2"
   ],
   "metadata": {
    "collapsed": false,
    "pycharm": {
     "name": "#%%\n"
    }
   }
  },
  {
   "cell_type": "markdown",
   "source": [
    "#### Получить решение с порядком $O(h)$ при n = 10"
   ],
   "metadata": {
    "collapsed": false,
    "pycharm": {
     "name": "#%% md\n"
    }
   }
  },
  {
   "cell_type": "code",
   "execution_count": 123,
   "outputs": [
    {
     "data": {
      "text/plain": "x                -1.0      -0.8      -0.6     -0.4      -0.2      -0.0  \\\nyy           2.382635  2.382635  2.279513  2.08192  1.812748  1.507548   \n|yy - y_ex|  0.544865  0.484465  0.408587  0.32288  0.234852  0.152252   \n\nx                 0.2      0.4       0.6       0.8       1.0  \nyy           1.207742  0.95029  0.758306  0.637436  0.579487  \n|yy - y_ex|  0.081558  0.02641  0.013906  0.043036  0.065287  ",
      "text/html": "<div>\n<style scoped>\n    .dataframe tbody tr th:only-of-type {\n        vertical-align: middle;\n    }\n\n    .dataframe tbody tr th {\n        vertical-align: top;\n    }\n\n    .dataframe thead th {\n        text-align: right;\n    }\n</style>\n<table border=\"1\" class=\"dataframe\">\n  <thead>\n    <tr style=\"text-align: right;\">\n      <th>x</th>\n      <th>-1.0</th>\n      <th>-0.8</th>\n      <th>-0.6</th>\n      <th>-0.4</th>\n      <th>-0.2</th>\n      <th>-0.0</th>\n      <th>0.2</th>\n      <th>0.4</th>\n      <th>0.6</th>\n      <th>0.8</th>\n      <th>1.0</th>\n    </tr>\n  </thead>\n  <tbody>\n    <tr>\n      <th>yy</th>\n      <td>2.382635</td>\n      <td>2.382635</td>\n      <td>2.279513</td>\n      <td>2.08192</td>\n      <td>1.812748</td>\n      <td>1.507548</td>\n      <td>1.207742</td>\n      <td>0.95029</td>\n      <td>0.758306</td>\n      <td>0.637436</td>\n      <td>0.579487</td>\n    </tr>\n    <tr>\n      <th>|yy - y_ex|</th>\n      <td>0.544865</td>\n      <td>0.484465</td>\n      <td>0.408587</td>\n      <td>0.32288</td>\n      <td>0.234852</td>\n      <td>0.152252</td>\n      <td>0.081558</td>\n      <td>0.02641</td>\n      <td>0.013906</td>\n      <td>0.043036</td>\n      <td>0.065287</td>\n    </tr>\n  </tbody>\n</table>\n</div>"
     },
     "execution_count": 123,
     "metadata": {},
     "output_type": "execute_result"
    }
   ],
   "source": [
    "n = 10\n",
    "xx, yy = sm.sweep_method_1(p, q, r, f,a1, a2, b1, b2, a, b, x_0, x_n, n)\n",
    "errs_1 = [0]*(n+1)\n",
    "for i in range(n+1):\n",
    "    errs_1[i] = np.abs(yy[i] - arr[i*2])\n",
    "data = [yy, errs_1]\n",
    "indexes = [\"yy\", \"|yy - y_ex|\"]\n",
    "df = pd.DataFrame(data,index = indexes, columns= xx)\n",
    "df.columns.name = \"x\"\n",
    "df"
   ],
   "metadata": {
    "collapsed": false,
    "pycharm": {
     "name": "#%%\n"
    }
   }
  },
  {
   "cell_type": "markdown",
   "source": [
    "#### Получить решение с порядком $O(h)$ при n = 20"
   ],
   "metadata": {
    "collapsed": false,
    "pycharm": {
     "name": "#%% md\n"
    }
   }
  },
  {
   "cell_type": "code",
   "execution_count": 124,
   "outputs": [
    {
     "data": {
      "text/plain": "x                -1.0      -0.9      -0.8      -0.7      -0.6      -0.5  \\\nyy           2.630558  2.630558  2.602744  2.547239  2.464963  2.357749   \n|yy - y_ex|  0.296942  0.281842  0.264356  0.237661  0.223137  0.181751   \n\nx              -0.4      -0.3      -0.2    -0.1  ...       0.1       0.2  \\\nyy           2.2284  2.080674  1.919184  1.7492  ...  1.406286  1.244261   \n|yy - y_ex|  0.1764  0.152326  0.128416  0.1053  ...  0.106414  0.045039   \n\nx                 0.3       0.4       0.5      0.6       0.7       0.8  \\\nyy           1.094797  0.961377  0.846273  0.75051  0.673972  0.615621   \n|yy - y_ex|  0.029103  0.015323  0.018727  0.00611  0.008472  0.021221   \n\nx                 0.9       1.0  \nyy           0.573785  0.546462  \n|yy - y_ex|  0.027085  0.032262  \n\n[2 rows x 21 columns]",
      "text/html": "<div>\n<style scoped>\n    .dataframe tbody tr th:only-of-type {\n        vertical-align: middle;\n    }\n\n    .dataframe tbody tr th {\n        vertical-align: top;\n    }\n\n    .dataframe thead th {\n        text-align: right;\n    }\n</style>\n<table border=\"1\" class=\"dataframe\">\n  <thead>\n    <tr style=\"text-align: right;\">\n      <th>x</th>\n      <th>-1.0</th>\n      <th>-0.9</th>\n      <th>-0.8</th>\n      <th>-0.7</th>\n      <th>-0.6</th>\n      <th>-0.5</th>\n      <th>-0.4</th>\n      <th>-0.3</th>\n      <th>-0.2</th>\n      <th>-0.1</th>\n      <th>...</th>\n      <th>0.1</th>\n      <th>0.2</th>\n      <th>0.3</th>\n      <th>0.4</th>\n      <th>0.5</th>\n      <th>0.6</th>\n      <th>0.7</th>\n      <th>0.8</th>\n      <th>0.9</th>\n      <th>1.0</th>\n    </tr>\n  </thead>\n  <tbody>\n    <tr>\n      <th>yy</th>\n      <td>2.630558</td>\n      <td>2.630558</td>\n      <td>2.602744</td>\n      <td>2.547239</td>\n      <td>2.464963</td>\n      <td>2.357749</td>\n      <td>2.2284</td>\n      <td>2.080674</td>\n      <td>1.919184</td>\n      <td>1.7492</td>\n      <td>...</td>\n      <td>1.406286</td>\n      <td>1.244261</td>\n      <td>1.094797</td>\n      <td>0.961377</td>\n      <td>0.846273</td>\n      <td>0.75051</td>\n      <td>0.673972</td>\n      <td>0.615621</td>\n      <td>0.573785</td>\n      <td>0.546462</td>\n    </tr>\n    <tr>\n      <th>|yy - y_ex|</th>\n      <td>0.296942</td>\n      <td>0.281842</td>\n      <td>0.264356</td>\n      <td>0.237661</td>\n      <td>0.223137</td>\n      <td>0.181751</td>\n      <td>0.1764</td>\n      <td>0.152326</td>\n      <td>0.128416</td>\n      <td>0.1053</td>\n      <td>...</td>\n      <td>0.106414</td>\n      <td>0.045039</td>\n      <td>0.029103</td>\n      <td>0.015323</td>\n      <td>0.018727</td>\n      <td>0.00611</td>\n      <td>0.008472</td>\n      <td>0.021221</td>\n      <td>0.027085</td>\n      <td>0.032262</td>\n    </tr>\n  </tbody>\n</table>\n<p>2 rows × 21 columns</p>\n</div>"
     },
     "execution_count": 124,
     "metadata": {},
     "output_type": "execute_result"
    }
   ],
   "source": [
    "n = 20\n",
    "xx, yy = sm.sweep_method_1(p, q, r, f,a1, a2, b1, b2, a, b, x_0, x_n, n)\n",
    "errs_2 = [0]*(n+1)\n",
    "for i in range(n+1):\n",
    "    errs_2[i] = np.abs(yy[i] - arr[i])\n",
    "data = [yy, errs_2]\n",
    "indexes = [\"yy\", \"|yy - y_ex|\"]\n",
    "df = pd.DataFrame(data,index = indexes, columns= xx)\n",
    "df.columns.name = \"x\"\n",
    "df"
   ],
   "metadata": {
    "collapsed": false,
    "pycharm": {
     "name": "#%%\n"
    }
   }
  },
  {
   "cell_type": "markdown",
   "source": [
    "#### Получить решение с порядком $O(h^2)$ при n = 10"
   ],
   "metadata": {
    "collapsed": false,
    "pycharm": {
     "name": "#%% md\n"
    }
   }
  },
  {
   "cell_type": "code",
   "execution_count": 125,
   "outputs": [
    {
     "data": {
      "text/plain": "x                -0.9      -0.7      -0.5      -0.3      -0.1       0.1  \\\nyy           2.916409  2.795015  2.559407  2.232227  1.851423  1.464401   \n|yy - y_ex|  0.004009  0.010115  0.019907  0.000773  0.003077  0.048299   \n\nx                 0.3       0.5       0.7       0.9  \nyy           1.117069  0.841972  0.651379  0.538849  \n|yy - y_ex|  0.006831  0.023028  0.014121  0.007851  ",
      "text/html": "<div>\n<style scoped>\n    .dataframe tbody tr th:only-of-type {\n        vertical-align: middle;\n    }\n\n    .dataframe tbody tr th {\n        vertical-align: top;\n    }\n\n    .dataframe thead th {\n        text-align: right;\n    }\n</style>\n<table border=\"1\" class=\"dataframe\">\n  <thead>\n    <tr style=\"text-align: right;\">\n      <th>x</th>\n      <th>-0.9</th>\n      <th>-0.7</th>\n      <th>-0.5</th>\n      <th>-0.3</th>\n      <th>-0.1</th>\n      <th>0.1</th>\n      <th>0.3</th>\n      <th>0.5</th>\n      <th>0.7</th>\n      <th>0.9</th>\n    </tr>\n  </thead>\n  <tbody>\n    <tr>\n      <th>yy</th>\n      <td>2.916409</td>\n      <td>2.795015</td>\n      <td>2.559407</td>\n      <td>2.232227</td>\n      <td>1.851423</td>\n      <td>1.464401</td>\n      <td>1.117069</td>\n      <td>0.841972</td>\n      <td>0.651379</td>\n      <td>0.538849</td>\n    </tr>\n    <tr>\n      <th>|yy - y_ex|</th>\n      <td>0.004009</td>\n      <td>0.010115</td>\n      <td>0.019907</td>\n      <td>0.000773</td>\n      <td>0.003077</td>\n      <td>0.048299</td>\n      <td>0.006831</td>\n      <td>0.023028</td>\n      <td>0.014121</td>\n      <td>0.007851</td>\n    </tr>\n  </tbody>\n</table>\n</div>"
     },
     "execution_count": 125,
     "metadata": {},
     "output_type": "execute_result"
    }
   ],
   "source": [
    "n = 10\n",
    "xx, yy = sm.sweep_method_2(p, q, r, f,a1, a2, b1, b2, a, b, x_0, x_n, n)\n",
    "errs_3 = [0]*(n)\n",
    "\n",
    "for i in range(n):\n",
    "    errs_3[i] = np.abs(yy[i+1] - arr[2*(i) + 1])\n",
    "\n",
    "\n",
    "yy = [yy[i] for i in range(1, n+1)]\n",
    "xx = [xx[i] for i in range(1, n+1)]\n",
    "\n",
    "data = [yy, errs_3]\n",
    "indexes = [\"yy\", \"|yy - y_ex|\"]\n",
    "df = pd.DataFrame(data,index = indexes, columns= xx)\n",
    "df.columns.name = \"x\"\n",
    "df"
   ],
   "metadata": {
    "collapsed": false,
    "pycharm": {
     "name": "#%%\n"
    }
   }
  }
 ],
 "metadata": {
  "kernelspec": {
   "name": "pycharm-671264a7",
   "language": "python",
   "display_name": "PyCharm (Вычи)"
  },
  "language_info": {
   "codemirror_mode": {
    "name": "ipython",
    "version": 2
   },
   "file_extension": ".py",
   "mimetype": "text/x-python",
   "name": "python",
   "nbconvert_exporter": "python",
   "pygments_lexer": "ipython2",
   "version": "2.7.6"
  }
 },
 "nbformat": 4,
 "nbformat_minor": 0
}