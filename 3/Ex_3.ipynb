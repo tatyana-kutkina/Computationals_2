{
 "cells": [
  {
   "cell_type": "markdown",
   "metadata": {
    "collapsed": true,
    "pycharm": {
     "name": "#%% md\n"
    }
   },
   "source": [
    "### Полная проблема собственных .значений. Метод Якоби. Частичная проблема с. значений (степенной, скалярных пр-ий, обратный степенной)"
   ]
  },
  {
   "cell_type": "markdown",
   "source": [
    "Вариант 5. "
   ],
   "metadata": {
    "collapsed": false,
    "pycharm": {
     "name": "#%% md\n"
    }
   }
  },
  {
   "cell_type": "markdown",
   "source": [
    "#### Реализовать метод Якоби для вычисления собственных чисел и собственных векторов."
   ],
   "metadata": {
    "collapsed": false,
    "pycharm": {
     "name": "#%% md\n"
    }
   }
  },
  {
   "cell_type": "code",
   "execution_count": 19,
   "outputs": [
    {
     "name": "stdout",
     "output_type": "stream",
     "text": [
      "Собственные числа, полученные методом Якоби [-0.41818524  0.97552494 -2.0989897 ]\n",
      "Собственные векторы, полученные методом Якоби \n",
      " [[ 0.69824339 -0.11680836 -0.70626623]\n",
      " [-0.0092532   0.98504251 -0.17206285]\n",
      " [ 0.71580064  0.12667697  0.68671857]]\n",
      "Потребовалось количество итераций:  9\n"
     ]
    }
   ],
   "source": [
    "import numpy as np\n",
    "import copy\n",
    "import m_jacoby as mj\n",
    "from numpy import linalg as LA\n",
    "\n",
    "\n",
    "name = \"/home/tatyana/PycharmProjects/Computationals_2/mtarix_3.txt\"\n",
    "\n",
    "A = np.loadtxt(name)\n",
    "n, m = A.shape\n",
    "X = np.eye(n)\n",
    "\n",
    "# макс. наддиаг. элемент и его координаты\n",
    "x, i_k, j_k = mj.maxx(A)\n",
    "\n",
    "eps = 10 ** (-6)\n",
    "k = 0\n",
    "\n",
    "while x>eps and k!=20:\n",
    "\n",
    "    d = np.sqrt((A[i_k][i_k] - A[j_k][j_k]) ** 2 + 4 * (A[i_k][j_k]) ** 2)\n",
    "    part_val = np.abs(A[i_k][i_k] - A[j_k][j_k]) / d\n",
    "    c = np.sqrt(0.5 * (1 + part_val))\n",
    "    sign_S = np.sign(A[i_k][j_k] * (A[i_k][i_k] - A[j_k][j_k]))\n",
    "    s = sign_S * np.sqrt(0.5 * (1 - part_val))\n",
    "\n",
    "    # считаем матрицу собственных векторов\n",
    "    V = np.eye(n)\n",
    "    V[i_k][i_k], V[j_k][j_k] = c, c\n",
    "    V[i_k][j_k], V[j_k][i_k] = -s, s\n",
    "    X = X.dot(V)\n",
    "\n",
    "    # пересчет матрицы А\n",
    "    A_new = copy.deepcopy(A)\n",
    "\n",
    "    A_new[i_k][i_k] = (c ** 2) * A[i_k][i_k] + 2 * c * s * A[i_k][j_k] + (s ** 2) * A[j_k][j_k]\n",
    "    A_new[j_k][j_k] = (s ** 2) * A[i_k][i_k] - 2 * c * s * A[i_k][j_k] + (c ** 2) * A[j_k][j_k]\n",
    "    A_new[i_k][j_k] = (c ** 2 - s ** 2) * A[i_k][j_k] + c * s * (A[j_k][j_k] - A[i_k][i_k])\n",
    "    A_new[j_k][i_k] = A_new[i_k][j_k]\n",
    "\n",
    "    for i in range(n):\n",
    "        for j in range(m):\n",
    "            if i != i_k and i != j_k and j != i_k and j != j_k:\n",
    "                A_new[i][j] = A[i][j]\n",
    "            elif i != i_k and i != j_k:\n",
    "                val_1 = c * A[i][i_k] + s * A[i][j_k]\n",
    "                val_2 = -s * A[i][i_k] + c * A[i][j_k]\n",
    "                A_new[i][i_k] = val_1\n",
    "                A_new[i][j_k] = val_2\n",
    "\n",
    "    A = copy.deepcopy(A_new)\n",
    "    k += 1\n",
    "\n",
    "    # пересчет массива наддиагональных элементов\n",
    "    x, i_k, j_k = mj.maxx(A)\n",
    "\n",
    "\n",
    "lambdas = A.diagonal()\n",
    "\n",
    "print(\"Собственные числа, полученные методом Якоби\", lambdas)\n",
    "print(\"Собственные векторы, полученные методом Якоби\",'\\n', X)\n",
    "print(\"Потребовалось количество итераций: \", k)"
   ],
   "metadata": {
    "collapsed": false,
    "pycharm": {
     "name": "#%%\n"
    }
   }
  },
  {
   "cell_type": "markdown",
   "source": [
    "#### Найти наибольшое по модулю собственное число степенным методом.\n"
   ],
   "metadata": {
    "collapsed": false,
    "pycharm": {
     "name": "#%% md\n"
    }
   }
  },
  {
   "cell_type": "code",
   "execution_count": 20,
   "outputs": [
    {
     "name": "stdout",
     "output_type": "stream",
     "text": [
      "Максимальное собственное число степенным методом -2.0949697204578537\n",
      "Макс. собственное число встроенным методом -2.0952613607562873\n",
      "Абсолютная погрешность 0.0002916402984336486\n",
      "Количество итераций: 12\n",
      "Соответствуйющий собственный вектор [-0.68637866 -0.16995846  0.70710569]\n"
     ]
    }
   ],
   "source": [
    "A = np.loadtxt(name)\n",
    "n = len(A)\n",
    "v = [1, 0, 0]\n",
    "q = [v]\n",
    "lambdas = [v]\n",
    "\n",
    "w, v = LA.eig(A)  # собственные числа и векторы матрицы H\n",
    "l_max = 0\n",
    "for x in w:\n",
    "    if abs(x)>abs(l_max):\n",
    "        l_max = x\n",
    "\n",
    "i = 1\n",
    "eps = 10 ** (-3)\n",
    "lam_1, lam_2 = 1, 0\n",
    "\n",
    "while np.abs(lam_1 - lam_2) > eps and i != 20:\n",
    "    q.append(np.dot(A, q[i - 1]))\n",
    "    lam_2 = copy.deepcopy(lam_1)\n",
    "    lam_1 = q[i][0] / q[i - 1][0]\n",
    "    i+=1\n",
    "\n",
    "w_max = lam_1\n",
    "print(\"Максимальное собственное число степенным методом\", w_max)\n",
    "print(\"Макс. собственное число встроенным методом\", l_max)\n",
    "print(\"Абсолютная погрешность\", abs(w_max - l_max))\n",
    "print(\"Количество итераций:\", i)\n",
    "q[i-1] = q[i-1]/LA.norm(q[i-1])\n",
    "print(\"Соответствуйющий собственный вектор\", q[i-1])"
   ],
   "metadata": {
    "collapsed": false,
    "pycharm": {
     "name": "#%%\n"
    }
   }
  },
  {
   "cell_type": "markdown",
   "source": [
    "#### Метод скалярных произведений"
   ],
   "metadata": {
    "collapsed": false
   }
  },
  {
   "cell_type": "code",
   "execution_count": 21,
   "outputs": [
    {
     "name": "stdout",
     "output_type": "stream",
     "text": [
      "Максимальное собственное число степенным методом -2.0949697204578537\n",
      "Макс. собственное число встроенным методом -2.0952613607562873\n",
      "Абсолютная погрешность 0.0002916402984336486\n",
      "Количество итераций: 7\n"
     ]
    }
   ],
   "source": [
    "v = [1, 0, 0]\n",
    "q = [v]\n",
    "lambdas = [v]\n",
    "\n",
    "i = 1\n",
    "eps = 10 ** (-3)\n",
    "lam_1, lam_2 = 1, 0\n",
    "\n",
    "while np.abs(lam_1 - lam_2) > eps and i!=15:\n",
    "    q.append(np.dot(A, q[i - 1]))\n",
    "    lam_2 = copy.deepcopy(lam_1)\n",
    "    lam_1 = np.dot(q[i], q[i-1])/np.dot(q[i-1], q[i-1])\n",
    "    i += 1\n",
    "\n",
    "w_max = lam_1\n",
    "print(\"Максимальное собственное число степенным методом\", w_max)\n",
    "print(\"Макс. собственное число встроенным методом\", l_max)\n",
    "print(\"Абсолютная погрешность\", abs(w_max - l_max))\n",
    "print(\"Количество итераций:\", i)\n"
   ],
   "metadata": {
    "collapsed": false,
    "pycharm": {
     "name": "#%%\n"
    }
   }
  }
 ],
 "metadata": {
  "kernelspec": {
   "name": "pycharm-671264a7",
   "language": "python",
   "display_name": "PyCharm (Вычи)"
  },
  "language_info": {
   "codemirror_mode": {
    "name": "ipython",
    "version": 2
   },
   "file_extension": ".py",
   "mimetype": "text/x-python",
   "name": "python",
   "nbconvert_exporter": "python",
   "pygments_lexer": "ipython2",
   "version": "2.7.6"
  }
 },
 "nbformat": 4,
 "nbformat_minor": 0
}